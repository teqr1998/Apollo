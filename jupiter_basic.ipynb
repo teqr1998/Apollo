{
  "nbformat": 4,
  "nbformat_minor": 0,
  "metadata": {
    "colab": {
      "name": "Kopia notatnika podstawy_python_jupiter.ipynb",
      "provenance": [],
      "collapsed_sections": []
    },
    "kernelspec": {
      "name": "python3",
      "display_name": "Python 3"
    }
  },
  "cells": [
    {
      "cell_type": "code",
      "metadata": {
        "colab": {
          "base_uri": "https://localhost:8080/"
        },
        "id": "OT3bd1dPyYsh",
        "outputId": "5a0c3d60-f4f4-492e-8062-94d5aebbcba1"
      },
      "source": [
        "#### challenge 0.1\r\n",
        "\r\n",
        "zajecia = [\"wf\",\"informatyka\",\"relax\",\"mispy\",\"piateczek\"]\r\n",
        "\r\n",
        "dnityg= [\"Pon\",\"Wto\",\"Sro\",\"Czwar\",\"Pio\"]\r\n",
        "\r\n",
        "# wyprintuj zajecia od srody do piatku\r\n",
        "print(\"Od środy\")\r\n",
        "for i in range(2, len(dnityg)):\r\n",
        "    print(zajecia[i])\r\n",
        "# wyprintuj oprocz srody\r\n",
        "print(\"Bez środy\")\r\n",
        "for i in range(len(dnityg)):\r\n",
        "    if not dnityg[i]==\"Sro\":\r\n",
        "        print(zajecia[i])"
      ],
      "execution_count": 1,
      "outputs": [
        {
          "output_type": "stream",
          "text": [
            "Od środy\n",
            "relax\n",
            "mispy\n",
            "piateczek\n",
            "Bez środy\n",
            "wf\n",
            "informatyka\n",
            "mispy\n",
            "piateczek\n"
          ],
          "name": "stdout"
        }
      ]
    },
    {
      "cell_type": "code",
      "metadata": {
        "colab": {
          "base_uri": "https://localhost:8080/"
        },
        "id": "w7oyPD34ykVl",
        "outputId": "8116d979-20bb-43a0-a1b8-b403723aea22"
      },
      "source": [
        "#### challenge 0.2\r\n",
        "\r\n",
        "zajecia = [[\"wf\"],\r\n",
        "           [\"informatyka\", \"nauka czytania\"],\r\n",
        "           [\"relax\", \"jedzenie\"],\r\n",
        "           [\"mispy\",\"mispy w domu\"],\r\n",
        "           [\"piateczek\", \"praca domowa z mispow\", \"Ilovemispy\", \"mispy w czasie snu\"]\r\n",
        "          ]\r\n",
        "\r\n",
        "dnityg= [\"Pon\",\"Wto\",\"Sro\",\"Czwar\",\"Pio\"]\r\n",
        "\r\n",
        "# zdefiniuj funkcje ktora poda ile jest zajec danego dnia\r\n",
        "# lista_zajec_z_dnia -> ile ich jest\r\n",
        "def lista_zajec(dzien):\r\n",
        "    for z, t in zip(zajecia, dnityg):\r\n",
        "        if t==dzien:\r\n",
        "            return z\r\n",
        "    return []\r\n",
        "def ile_zajec(dzien):\r\n",
        "    return len(lista_zajec(dzien))\r\n",
        "# po\r\n",
        "# posortuj dni po najbardziej zajetych\r\n",
        "print(\"Najbardziej zajęte:\")\r\n",
        "print(sorted(dnityg, key=ile_zajec,reverse=True))\r\n",
        "\r\n",
        "#### challenge 0.3\r\n",
        "def ile_misp(dzien):\r\n",
        "    misp = 0\r\n",
        "    for z in lista_zajec(dzien):\r\n",
        "        if \"misp\" in z:\r\n",
        "            misp += 1\r\n",
        "    return misp\r\n",
        "\r\n",
        "print(\"Najwięcej mispów:\")\r\n",
        "print(max(dnityg, key=ile_misp))  \r\n",
        "# napisz program ktory zdajdzie dzien z najwieksza iloscia mispow"
      ],
      "execution_count": 2,
      "outputs": [
        {
          "output_type": "stream",
          "text": [
            "Najbardziej zajęte:\n",
            "['Pio', 'Wto', 'Sro', 'Czwar', 'Pon']\n",
            "Najwięcej mispów:\n",
            "Pio\n"
          ],
          "name": "stdout"
        }
      ]
    }
  ]
}