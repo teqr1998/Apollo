{
  "nbformat": 4,
  "nbformat_minor": 0,
  "metadata": {
    "colab": {
      "name": "Kopia notatnika ZadaniaObwodowe.ipynb",
      "provenance": [],
      "collapsed_sections": []
    },
    "kernelspec": {
      "name": "python3",
      "display_name": "Python 3"
    }
  },
  "cells": [
    {
      "cell_type": "markdown",
      "metadata": {
        "id": "GARgGovHHBZL"
      },
      "source": [
        "Zadania obwodowe - max prądu"
      ]
    },
    {
      "cell_type": "code",
      "metadata": {
        "id": "SrQK0lIVG8ps",
        "colab": {
          "base_uri": "https://localhost:8080/"
        },
        "outputId": "d4736d4d-d38c-41d4-bced-9bc730e8e455"
      },
      "source": [
        "!pip install pulp\n",
        "!sudo apt-get install coinor-cbc glpk-utils coinor-clp"
      ],
      "execution_count": null,
      "outputs": [
        {
          "output_type": "stream",
          "text": [
            "Requirement already satisfied: pulp in /usr/local/lib/python3.6/dist-packages (2.4)\n",
            "Requirement already satisfied: amply>=0.1.2 in /usr/local/lib/python3.6/dist-packages (from pulp) (0.1.4)\n",
            "Requirement already satisfied: pyparsing in /usr/local/lib/python3.6/dist-packages (from amply>=0.1.2->pulp) (2.4.7)\n",
            "Requirement already satisfied: docutils>=0.3 in /usr/local/lib/python3.6/dist-packages (from amply>=0.1.2->pulp) (0.16)\n",
            "Reading package lists... Done\n",
            "Building dependency tree       \n",
            "Reading state information... Done\n",
            "coinor-cbc is already the newest version (2.9.9+repack1-1).\n",
            "coinor-clp is already the newest version (1.16.11+repack1-1).\n",
            "glpk-utils is already the newest version (4.65-1).\n",
            "0 upgraded, 0 newly installed, 0 to remove and 12 not upgraded.\n"
          ],
          "name": "stdout"
        }
      ]
    },
    {
      "cell_type": "code",
      "metadata": {
        "id": "0WTLUDfpMXVX"
      },
      "source": [
        "from pulp import *"
      ],
      "execution_count": null,
      "outputs": []
    },
    {
      "cell_type": "code",
      "metadata": {
        "id": "FL4sz5RPIt1v",
        "colab": {
          "base_uri": "https://localhost:8080/"
        },
        "outputId": "1357d276-185b-46a7-cf4f-12b49390ae1f"
      },
      "source": [
        "# dane\n",
        "problem = LpProblem(\"Prad_max\", LpMaximize)\n",
        "R = [8, 6, 4, 10, 8 ]\n",
        "Imax = [2, 3, 4, 2, 2 ]\n",
        "\n",
        "prad = LpVariable.dicts(\"i\", \"1 2 3 4 5\".split())\n",
        "problem += prad[\"3\"], \"max_prad\"\n",
        "for x, i in enumerate(prad):\n",
        "    problem += prad[i] <= Imax[x]\n",
        "problem += prad[\"1\"] + prad[\"2\"] == prad[\"3\"]\n",
        "problem += prad[\"3\"] == prad[\"4\"] + prad[\"5\"]\n",
        "problem += prad[\"2\"] == prad[\"1\"] * R[1-1] / R[2-1]\n",
        "problem += prad[\"5\"] == prad[\"4\"] * R[4-1] / R[5-1]\n",
        "problem.solve()\n",
        "print(\"Imax:\")\n",
        "for i, v in enumerate(problem.variables()):\n",
        "    print(str(i+1) + \": \" + str(v.value()))"
      ],
      "execution_count": null,
      "outputs": [
        {
          "output_type": "stream",
          "text": [
            "Imax:\n",
            "1: 1.5428571\n",
            "2: 2.0571429\n",
            "3: 3.6\n",
            "4: 1.6\n",
            "5: 2.0\n"
          ],
          "name": "stdout"
        }
      ]
    },
    {
      "cell_type": "markdown",
      "metadata": {
        "id": "vCPyRSyaXhaX"
      },
      "source": [
        "Minimalizacja strat"
      ]
    },
    {
      "cell_type": "code",
      "metadata": {
        "id": "Fx-2RA-Ka5sS",
        "colab": {
          "base_uri": "https://localhost:8080/"
        },
        "outputId": "5038c884-0822-4169-ce9d-5617255d449d"
      },
      "source": [
        "Uzad =  [ 6, 10, 4, 7, 3 ]\n",
        "Izad = [ 0.004, 0.002, 0.002, 0.002, 0.004 ]\n",
        "\n",
        "problem = LpProblem(\"Min_strat\", LpMinimize)\n",
        "zmienne = LpVariable.dicts(\"i\", \"1 2 3 4 5\".split())\n",
        "problem += lpSum(Uzad[x] * zmienne[p] for x, p in enumerate(zmienne)), \"Straty\"\n",
        "for x, i in enumerate(zmienne):\n",
        "    problem += zmienne[i] >= Izad[x] - 0.001\n",
        "    problem += zmienne[i] <= Izad[x] + 0.001\n",
        "problem += zmienne[\"1\"] == zmienne[\"3\"] + zmienne[\"4\"]\n",
        "problem += zmienne[\"5\"] == zmienne[\"3\"] + zmienne[\"2\"]\n",
        "problem.solve()\n",
        "print(\"Straty:\" + str(problem.objective.value()))\n",
        "print(\"R:\")\n",
        "for i, v in enumerate(problem.variables()):\n",
        "    print(str(i+1) + \": \" + str(Uzad[i] / v.value()))"
      ],
      "execution_count": null,
      "outputs": [
        {
          "output_type": "stream",
          "text": [
            "Straty:0.052000000000000005\n",
            "R:\n",
            "1: 2000.0\n",
            "2: 10000.0\n",
            "3: 2000.0\n",
            "4: 7000.0\n",
            "5: 1000.0\n"
          ],
          "name": "stdout"
        }
      ]
    }
  ]
}