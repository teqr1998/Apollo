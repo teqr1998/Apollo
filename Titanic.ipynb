{
  "nbformat": 4,
  "nbformat_minor": 0,
  "metadata": {
    "colab": {
      "name": "Titanic.ipynb",
      "provenance": [],
      "collapsed_sections": [],
      "toc_visible": true
    },
    "kernelspec": {
      "name": "python3",
      "display_name": "Python 3"
    }
  },
  "cells": [
    {
      "cell_type": "code",
      "metadata": {
        "colab": {
          "base_uri": "https://localhost:8080/"
        },
        "id": "qA0o31la1HMJ",
        "outputId": "a849adfb-8554-45cb-9cc1-660193b1b329"
      },
      "source": [
        "import pandas as pd\r\n",
        "from sklearn.model_selection import train_test_split\r\n",
        "from sklearn.ensemble import RandomForestRegressor\r\n",
        "\r\n",
        "X = pd.read_csv('/content/drive/MyDrive/MISSP/train.csv', index_col=0)\r\n",
        "print(X.head())\r\n",
        "y = X.Survived\r\n",
        "print(y.head())\r\n",
        "X.drop('Survived', axis='columns', inplace=True)\r\n",
        "print(X.head())\r\n",
        "X_train, X_valid, y_train, y_valid = train_test_split(X, y, random_state=1, train_size=0.75, test_size=0.15)"
      ],
      "execution_count": 2,
      "outputs": [
        {
          "output_type": "stream",
          "text": [
            "             Survived  Pclass  ... Cabin Embarked\n",
            "PassengerId                    ...               \n",
            "1                   0       3  ...   NaN        S\n",
            "2                   1       1  ...   C85        C\n",
            "3                   1       3  ...   NaN        S\n",
            "4                   1       1  ...  C123        S\n",
            "5                   0       3  ...   NaN        S\n",
            "\n",
            "[5 rows x 11 columns]\n",
            "PassengerId\n",
            "1    0\n",
            "2    1\n",
            "3    1\n",
            "4    1\n",
            "5    0\n",
            "Name: Survived, dtype: int64\n",
            "             Pclass  ... Embarked\n",
            "PassengerId          ...         \n",
            "1                 3  ...        S\n",
            "2                 1  ...        C\n",
            "3                 3  ...        S\n",
            "4                 1  ...        S\n",
            "5                 3  ...        S\n",
            "\n",
            "[5 rows x 10 columns]\n"
          ],
          "name": "stdout"
        }
      ]
    },
    {
      "cell_type": "code",
      "metadata": {
        "id": "DGLfkcmsCKmh"
      },
      "source": [
        "# Uzupełnienie brakującego wieku przeciętnym (medianowo)\r\n",
        "def fill_age(age_col):\r\n",
        "    return age_col.fillna(age_col.median())\r\n",
        "# Przyznanie numerów płciom\r\n",
        "def enum_sex(sex_col):\r\n",
        "    return sex_col == 'female'\r\n",
        "# Wybór kolumn z liczbami\r\n",
        "def select_num(pd_frame):\r\n",
        "    num_cols = []\r\n",
        "    for col in pd_frame.columns:\r\n",
        "        if pd_frame[col].dtype==int or pd_frame[col].dtype==float:\r\n",
        "            num_cols.append(col)\r\n",
        "    return pd_frame[num_cols]\r\n",
        "# Funkcja przetwarzająca dane\r\n",
        "def get_enumed_data(data):\r\n",
        "    age_col = fill_age(data.Age)\r\n",
        "    sex_col = enum_sex(data.Sex)\r\n",
        "    num_data = select_num(data.drop(['Age', 'Sex'], axis='columns'))\r\n",
        "    for col in num_data.columns:\r\n",
        "        num_data[col].fillna(num_data[col].median(), inplace=True)\r\n",
        "    return pd.concat([num_data, age_col, sex_col], axis='columns')\r\n",
        "default_sector = 'A'\r\n",
        "sector_enum = {'nieznana': 9, 'A': 1, 'B': 2, 'C': 3, 'D': 4, 'E': 5, 'F': 6, 'G': 7, 'T': 8}\r\n",
        "# Funkcja przetwarzająca dane\r\n",
        "def get_enumed_data_with_sector(data):\r\n",
        "    return pd.concat([get_enumed_data(data), data.Cabin.map(cabin_to_sector)], axis='columns')\r\n",
        "# Wiele kabin do jednego biletu - pominięte\r\n",
        "# Liczona jest tylko pierwsza litera\r\n",
        "def cabin_to_sector(name):\r\n",
        "    if type(name)==str and name:\r\n",
        "        sector = sector_enum[name[0]]\r\n",
        "    else:\r\n",
        "        sector = sector_enum[default_sector]\r\n",
        "    return sector"
      ],
      "execution_count": 3,
      "outputs": []
    },
    {
      "cell_type": "code",
      "metadata": {
        "colab": {
          "base_uri": "https://localhost:8080/"
        },
        "id": "PFbuA688_QAx",
        "outputId": "883b0812-2434-4da3-a406-4299ba3694b8"
      },
      "source": [
        "# Pominięcie innych typów danych\r\n",
        "X_train_num = get_enumed_data(X_train)\r\n",
        "X_valid_num = get_enumed_data(X_valid)\r\n",
        "forest = RandomForestRegressor(random_state=1)\r\n",
        "forest.fit(X_train_num, y_train)\r\n",
        "y_predict = forest.predict(X_valid_num) >= 0.5\r\n",
        "error = (y_predict == y_valid).sum() / y_valid.count()\r\n",
        "print(error)"
      ],
      "execution_count": 4,
      "outputs": [
        {
          "output_type": "stream",
          "text": [
            "0.7761194029850746\n"
          ],
          "name": "stdout"
        }
      ]
    },
    {
      "cell_type": "code",
      "metadata": {
        "colab": {
          "base_uri": "https://localhost:8080/"
        },
        "id": "ldZUZ_OwLUQ7",
        "outputId": "07e22166-fb3e-4740-db80-2b6bf2c7fd85"
      },
      "source": [
        "for sect in sector_enum.keys():\r\n",
        "    default_sector = sect\r\n",
        "    # Pominięcie innych typów danych\r\n",
        "    X_train_num = get_enumed_data_with_sector(X_train)\r\n",
        "    X_valid_num = get_enumed_data_with_sector(X_valid)\r\n",
        "    forest = RandomForestRegressor(random_state=1)\r\n",
        "    forest.fit(X_train_num, y_train)\r\n",
        "    y_predict = forest.predict(X_valid_num) >= 0.5\r\n",
        "    error = (y_predict == y_valid).sum() / y_valid.count()\r\n",
        "    print(sect, error)\r\n",
        "# Dla każdej wartości wynik jest pogorszony. Jest to tylko część danych z tej kolumny.\r\n",
        "# Dodatkowo, wiele komórek jest pustych.\r\n",
        "# Na podstawie poniższych wyników ta metoda analizy zostaje wykluczona."
      ],
      "execution_count": 5,
      "outputs": [
        {
          "output_type": "stream",
          "text": [
            "nieznana 0.753731343283582\n",
            "A 0.753731343283582\n",
            "B 0.7686567164179104\n",
            "C 0.7686567164179104\n",
            "D 0.7686567164179104\n",
            "E 0.7761194029850746\n",
            "F 0.753731343283582\n",
            "G 0.746268656716418\n",
            "T 0.753731343283582\n"
          ],
          "name": "stdout"
        }
      ]
    },
    {
      "cell_type": "code",
      "metadata": {
        "colab": {
          "base_uri": "https://localhost:8080/"
        },
        "id": "bVz4py9S7WiR",
        "outputId": "7035fc79-1140-41b4-c18b-12137cdcc798"
      },
      "source": [
        "X_test = pd.read_csv('/content/drive/MyDrive/MISSP/test.csv', index_col=0)\r\n",
        "# Pominięcie innych typów danych\r\n",
        "X = get_enumed_data(X)\r\n",
        "X_test = get_enumed_data(X_test)\r\n",
        "forest = RandomForestRegressor(random_state=1)\r\n",
        "forest.fit(X, y)\r\n",
        "print(X_test.notna().sum())\r\n",
        "y_file = pd.Series(forest.predict(X_test) >= 0.5, index=X_test.index, name='Survived')\r\n",
        "y_file = y_file.astype(int, False)\r\n",
        "y_file.to_csv('/content/drive/MyDrive/MISSP/result.csv')\r\n",
        "y_file.head()"
      ],
      "execution_count": 8,
      "outputs": [
        {
          "output_type": "stream",
          "text": [
            "Pclass    418\n",
            "SibSp     418\n",
            "Parch     418\n",
            "Fare      418\n",
            "Age       418\n",
            "Sex       418\n",
            "dtype: int64\n"
          ],
          "name": "stdout"
        },
        {
          "output_type": "execute_result",
          "data": {
            "text/plain": [
              "PassengerId\n",
              "892    0\n",
              "893    0\n",
              "894    1\n",
              "895    1\n",
              "896    1\n",
              "Name: Survived, dtype: int64"
            ]
          },
          "metadata": {
            "tags": []
          },
          "execution_count": 8
        }
      ]
    },
    {
      "cell_type": "code",
      "metadata": {
        "id": "pxZxlIxxQ9RP",
        "outputId": "473e4903-2d7f-45b4-cdbf-62e80fe5ea7b",
        "colab": {
          "base_uri": "https://localhost:8080/"
        }
      },
      "source": [
        "from google.colab import drive\n",
        "drive.mount('/content/drive')"
      ],
      "execution_count": 1,
      "outputs": [
        {
          "output_type": "stream",
          "text": [
            "Mounted at /content/drive\n"
          ],
          "name": "stdout"
        }
      ]
    }
  ]
}