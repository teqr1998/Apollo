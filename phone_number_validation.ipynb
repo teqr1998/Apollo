{
  "nbformat": 4,
  "nbformat_minor": 0,
  "metadata": {
    "colab": {
      "name": "Kopia notatnika cd_podstaw_pythona.ipynb",
      "provenance": [],
      "collapsed_sections": []
    },
    "kernelspec": {
      "name": "python3",
      "display_name": "Python 3"
    }
  },
  "cells": [
    {
      "cell_type": "markdown",
      "metadata": {
        "id": "TeDg8SKK3kk-"
      },
      "source": [
        "###challenge 1\r\n",
        "Stworz typ NumerTelefonu\r\n",
        "\r\n",
        "-- przy tworzeniu sprawdza czy właściwy numer (Polski) jeśli nie pisze, że error (ew. Exception)\r\n",
        "\r\n",
        "-- gdy printuję to mi pisze polskimi słowami i.e. \"jeden, pięć, siedem, zero\"\r\n",
        "\r\n",
        "-- gdy wywołuję właściwość wojewodzwtwo, podaje mi wojewodztwo ew. ze to komorkowy"
      ]
    },
    {
      "cell_type": "code",
      "metadata": {
        "id": "GXjRhic03yG-",
        "outputId": "8f64a116-487e-462b-8735-5a7abaaecc40",
        "colab": {
          "base_uri": "https://localhost:8080/",
          "height": 129
        }
      },
      "source": [
        "# ma na takie rzeczy być w stanie odpowiedzieć\r\n",
        "\r\n",
        "numer_lodz = NumerTelefonu(\"426877868\")\r\n",
        ">>> \"prawidlowy numer\"\r\n",
        "\r\n",
        "numer_lodz.wojewodztwo \r\n",
        ">>> \"Lodz\"\r\n",
        "\r\n",
        "print(numer_lodz)\r\n",
        ">>> \"cztery dwa sześć osiem siedem siedem osiem sześć osiem\""
      ],
      "execution_count": 1,
      "outputs": [
        {
          "output_type": "error",
          "ename": "SyntaxError",
          "evalue": "ignored",
          "traceback": [
            "\u001b[0;36m  File \u001b[0;32m\"<ipython-input-1-8dab9ef631a2>\"\u001b[0;36m, line \u001b[0;32m4\u001b[0m\n\u001b[0;31m    >>> \"prawidlowy numer\"\u001b[0m\n\u001b[0m     ^\u001b[0m\n\u001b[0;31mSyntaxError\u001b[0m\u001b[0;31m:\u001b[0m invalid syntax\n"
          ]
        }
      ]
    },
    {
      "cell_type": "code",
      "metadata": {
        "id": "OT3bd1dPyYsh"
      },
      "source": [
        "class NumerTelefonu:\r\n",
        "    cyfry = [\"zero\", \"jeden\", \"dwa\", \"trzy\", \"cztery\", \"pięć\", \"sześć\", \"siedem\", \"osiem\", \"dziewięć\"]\r\n",
        "    nazwy_woj = ['Dolnośląskie', 'Kujawsko-Pomorskie', 'Lubelskie',\r\n",
        "       'Lubuskie', 'Łódzkie', 'Małopolskie',\r\n",
        "       'Mazowieckie', 'Opolskie', 'Podkarpackie',\r\n",
        "       'Podlaskie', 'Pomorskie', 'Śląskie',\r\n",
        "       'Świętokrzyskie', 'Warmińsko-Mazurskie', 'Wielkopolskie',\r\n",
        "       'Zachodnio-Pomorskie']\r\n",
        "    numery = [[75, 76, 74, 71],[52, 56, 54],[83, 82, 81, 84],\r\n",
        "              [95, 68],[42, 44, 43, 46],[12, 18, 14],\r\n",
        "              [23, 29, 24, 48, 25, 22],[77],[13,16,17,15],\r\n",
        "              [85, 86, 86], [58, 59],[33, 34, 32],\r\n",
        "              [41],[55, 89],[62, 63, 65, 67, 61],\r\n",
        "              [94, 91]]\r\n",
        "    def __init__(self, numer):\r\n",
        "        \r\n",
        "        self.numer_tel = \"\"\r\n",
        "        self.wojewodztwo = \"nieznane\"\r\n",
        "        if len(numer) == 9:\r\n",
        "            self.numer_tel = numer\r\n",
        "            dany = int(numer[:2])\r\n",
        "            for w, n in zip(NumerTelefonu.nazwy_woj, NumerTelefonu.numery):\r\n",
        "                if dany in n:\r\n",
        "                    self.wojewodztwo = w\r\n",
        "        if self.wojewodztwo==\"nieznane\":\r\n",
        "            print(\"error\")\r\n",
        "        else:\r\n",
        "            print(\"prawidłowy numer\")\r\n",
        "    \r\n",
        "    def __repr__(self):\r\n",
        "        text = \"\"\r\n",
        "        for cyfra in self.numer_tel:\r\n",
        "            text += NumerTelefonu.cyfry[int(cyfra)] + \" \"\r\n",
        "        return text\r\n"
      ],
      "execution_count": 2,
      "outputs": []
    },
    {
      "cell_type": "code",
      "metadata": {
        "colab": {
          "base_uri": "https://localhost:8080/"
        },
        "id": "5RkyOmSz8vKu",
        "outputId": "3d0b0be3-0180-478b-cb81-07f624a8b876"
      },
      "source": [
        "numer_lodz = NumerTelefonu(\"426877868\")\r\n",
        "print(numer_lodz.wojewodztwo)\r\n",
        "print(numer_lodz)"
      ],
      "execution_count": 3,
      "outputs": [
        {
          "output_type": "stream",
          "text": [
            "prawidłowy numer\n",
            "Łódzkie\n",
            "cztery dwa sześć osiem siedem siedem osiem sześć osiem \n"
          ],
          "name": "stdout"
        }
      ]
    }
  ]
}