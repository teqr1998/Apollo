{
  "nbformat": 4,
  "nbformat_minor": 0,
  "metadata": {
    "kernelspec": {
      "display_name": "Python 3",
      "language": "python",
      "name": "python3"
    },
    "language_info": {
      "codemirror_mode": {
        "name": "ipython",
        "version": 3
      },
      "file_extension": ".py",
      "mimetype": "text/x-python",
      "name": "python",
      "nbconvert_exporter": "python",
      "pygments_lexer": "ipython3",
      "version": "3.7.6"
    },
    "papermill": {
      "duration": 20.524621,
      "end_time": "2021-01-22T20:04:14.018752",
      "environment_variables": {},
      "exception": null,
      "input_path": "__notebook__.ipynb",
      "output_path": "__notebook__.ipynb",
      "parameters": {},
      "start_time": "2021-01-22T20:03:53.494131",
      "version": "2.1.0"
    },
    "colab": {
      "name": "exercise-summary-functions-and-maps.ipynb",
      "provenance": []
    }
  },
  "cells": [
    {
      "cell_type": "markdown",
      "metadata": {
        "papermill": {
          "duration": 0.018565,
          "end_time": "2021-01-22T20:03:59.096833",
          "exception": false,
          "start_time": "2021-01-22T20:03:59.078268",
          "status": "completed"
        },
        "tags": [],
        "id": "--gN43PdMFe_"
      },
      "source": [
        "**This notebook is an exercise in the [Pandas](https://www.kaggle.com/learn/pandas) course.  You can reference the tutorial at [this link](https://www.kaggle.com/residentmario/summary-functions-and-maps).**\n",
        "\n",
        "---\n"
      ]
    },
    {
      "cell_type": "markdown",
      "metadata": {
        "papermill": {
          "duration": 0.01583,
          "end_time": "2021-01-22T20:03:59.128387",
          "exception": false,
          "start_time": "2021-01-22T20:03:59.112557",
          "status": "completed"
        },
        "tags": [],
        "id": "QRa4_zV_MFfK"
      },
      "source": [
        "# Introduction\n",
        "\n",
        "Now you are ready to get a deeper understanding of your data.\n",
        "\n",
        "Run the following cell to load your data and some utility functions (including code to check your answers)."
      ]
    },
    {
      "cell_type": "code",
      "metadata": {
        "execution": {
          "iopub.execute_input": "2021-01-22T20:03:59.171291Z",
          "iopub.status.busy": "2021-01-22T20:03:59.170519Z",
          "iopub.status.idle": "2021-01-22T20:04:07.297098Z",
          "shell.execute_reply": "2021-01-22T20:04:07.297781Z"
        },
        "papermill": {
          "duration": 8.153998,
          "end_time": "2021-01-22T20:04:07.297986",
          "exception": false,
          "start_time": "2021-01-22T20:03:59.143988",
          "status": "completed"
        },
        "tags": [],
        "id": "Vl4hvK3pMFfL",
        "outputId": "c9a1db23-a5ea-40d3-a50c-ed6dea06a4f4"
      },
      "source": [
        "import pandas as pd\n",
        "pd.set_option(\"display.max_rows\", 5)\n",
        "reviews = pd.read_csv(\"../input/wine-reviews/winemag-data-130k-v2.csv\", index_col=0)\n",
        "\n",
        "from learntools.core import binder; binder.bind(globals())\n",
        "from learntools.pandas.summary_functions_and_maps import *\n",
        "print(\"Setup complete.\")\n",
        "\n",
        "reviews.head()"
      ],
      "execution_count": null,
      "outputs": [
        {
          "output_type": "stream",
          "text": [
            "Setup complete.\n"
          ],
          "name": "stdout"
        },
        {
          "output_type": "execute_result",
          "data": {
            "text/html": [
              "<div>\n",
              "<style scoped>\n",
              "    .dataframe tbody tr th:only-of-type {\n",
              "        vertical-align: middle;\n",
              "    }\n",
              "\n",
              "    .dataframe tbody tr th {\n",
              "        vertical-align: top;\n",
              "    }\n",
              "\n",
              "    .dataframe thead th {\n",
              "        text-align: right;\n",
              "    }\n",
              "</style>\n",
              "<table border=\"1\" class=\"dataframe\">\n",
              "  <thead>\n",
              "    <tr style=\"text-align: right;\">\n",
              "      <th></th>\n",
              "      <th>country</th>\n",
              "      <th>description</th>\n",
              "      <th>designation</th>\n",
              "      <th>points</th>\n",
              "      <th>price</th>\n",
              "      <th>province</th>\n",
              "      <th>region_1</th>\n",
              "      <th>region_2</th>\n",
              "      <th>taster_name</th>\n",
              "      <th>taster_twitter_handle</th>\n",
              "      <th>title</th>\n",
              "      <th>variety</th>\n",
              "      <th>winery</th>\n",
              "    </tr>\n",
              "  </thead>\n",
              "  <tbody>\n",
              "    <tr>\n",
              "      <th>0</th>\n",
              "      <td>Italy</td>\n",
              "      <td>Aromas include tropical fruit, broom, brimston...</td>\n",
              "      <td>Vulkà Bianco</td>\n",
              "      <td>87</td>\n",
              "      <td>NaN</td>\n",
              "      <td>Sicily &amp; Sardinia</td>\n",
              "      <td>Etna</td>\n",
              "      <td>NaN</td>\n",
              "      <td>Kerin O’Keefe</td>\n",
              "      <td>@kerinokeefe</td>\n",
              "      <td>Nicosia 2013 Vulkà Bianco  (Etna)</td>\n",
              "      <td>White Blend</td>\n",
              "      <td>Nicosia</td>\n",
              "    </tr>\n",
              "    <tr>\n",
              "      <th>1</th>\n",
              "      <td>Portugal</td>\n",
              "      <td>This is ripe and fruity, a wine that is smooth...</td>\n",
              "      <td>Avidagos</td>\n",
              "      <td>87</td>\n",
              "      <td>15.0</td>\n",
              "      <td>Douro</td>\n",
              "      <td>NaN</td>\n",
              "      <td>NaN</td>\n",
              "      <td>Roger Voss</td>\n",
              "      <td>@vossroger</td>\n",
              "      <td>Quinta dos Avidagos 2011 Avidagos Red (Douro)</td>\n",
              "      <td>Portuguese Red</td>\n",
              "      <td>Quinta dos Avidagos</td>\n",
              "    </tr>\n",
              "    <tr>\n",
              "      <th>2</th>\n",
              "      <td>US</td>\n",
              "      <td>Tart and snappy, the flavors of lime flesh and...</td>\n",
              "      <td>NaN</td>\n",
              "      <td>87</td>\n",
              "      <td>14.0</td>\n",
              "      <td>Oregon</td>\n",
              "      <td>Willamette Valley</td>\n",
              "      <td>Willamette Valley</td>\n",
              "      <td>Paul Gregutt</td>\n",
              "      <td>@paulgwine</td>\n",
              "      <td>Rainstorm 2013 Pinot Gris (Willamette Valley)</td>\n",
              "      <td>Pinot Gris</td>\n",
              "      <td>Rainstorm</td>\n",
              "    </tr>\n",
              "    <tr>\n",
              "      <th>3</th>\n",
              "      <td>US</td>\n",
              "      <td>Pineapple rind, lemon pith and orange blossom ...</td>\n",
              "      <td>Reserve Late Harvest</td>\n",
              "      <td>87</td>\n",
              "      <td>13.0</td>\n",
              "      <td>Michigan</td>\n",
              "      <td>Lake Michigan Shore</td>\n",
              "      <td>NaN</td>\n",
              "      <td>Alexander Peartree</td>\n",
              "      <td>NaN</td>\n",
              "      <td>St. Julian 2013 Reserve Late Harvest Riesling ...</td>\n",
              "      <td>Riesling</td>\n",
              "      <td>St. Julian</td>\n",
              "    </tr>\n",
              "    <tr>\n",
              "      <th>4</th>\n",
              "      <td>US</td>\n",
              "      <td>Much like the regular bottling from 2012, this...</td>\n",
              "      <td>Vintner's Reserve Wild Child Block</td>\n",
              "      <td>87</td>\n",
              "      <td>65.0</td>\n",
              "      <td>Oregon</td>\n",
              "      <td>Willamette Valley</td>\n",
              "      <td>Willamette Valley</td>\n",
              "      <td>Paul Gregutt</td>\n",
              "      <td>@paulgwine</td>\n",
              "      <td>Sweet Cheeks 2012 Vintner's Reserve Wild Child...</td>\n",
              "      <td>Pinot Noir</td>\n",
              "      <td>Sweet Cheeks</td>\n",
              "    </tr>\n",
              "  </tbody>\n",
              "</table>\n",
              "</div>"
            ],
            "text/plain": [
              "    country                                        description  \\\n",
              "0     Italy  Aromas include tropical fruit, broom, brimston...   \n",
              "1  Portugal  This is ripe and fruity, a wine that is smooth...   \n",
              "2        US  Tart and snappy, the flavors of lime flesh and...   \n",
              "3        US  Pineapple rind, lemon pith and orange blossom ...   \n",
              "4        US  Much like the regular bottling from 2012, this...   \n",
              "\n",
              "                          designation  points  price           province  \\\n",
              "0                        Vulkà Bianco      87    NaN  Sicily & Sardinia   \n",
              "1                            Avidagos      87   15.0              Douro   \n",
              "2                                 NaN      87   14.0             Oregon   \n",
              "3                Reserve Late Harvest      87   13.0           Michigan   \n",
              "4  Vintner's Reserve Wild Child Block      87   65.0             Oregon   \n",
              "\n",
              "              region_1           region_2         taster_name  \\\n",
              "0                 Etna                NaN       Kerin O’Keefe   \n",
              "1                  NaN                NaN          Roger Voss   \n",
              "2    Willamette Valley  Willamette Valley        Paul Gregutt   \n",
              "3  Lake Michigan Shore                NaN  Alexander Peartree   \n",
              "4    Willamette Valley  Willamette Valley        Paul Gregutt   \n",
              "\n",
              "  taster_twitter_handle                                              title  \\\n",
              "0          @kerinokeefe                  Nicosia 2013 Vulkà Bianco  (Etna)   \n",
              "1            @vossroger      Quinta dos Avidagos 2011 Avidagos Red (Douro)   \n",
              "2           @paulgwine       Rainstorm 2013 Pinot Gris (Willamette Valley)   \n",
              "3                   NaN  St. Julian 2013 Reserve Late Harvest Riesling ...   \n",
              "4           @paulgwine   Sweet Cheeks 2012 Vintner's Reserve Wild Child...   \n",
              "\n",
              "          variety               winery  \n",
              "0     White Blend              Nicosia  \n",
              "1  Portuguese Red  Quinta dos Avidagos  \n",
              "2      Pinot Gris            Rainstorm  \n",
              "3        Riesling           St. Julian  \n",
              "4      Pinot Noir         Sweet Cheeks  "
            ]
          },
          "metadata": {
            "tags": []
          },
          "execution_count": 1
        }
      ]
    },
    {
      "cell_type": "markdown",
      "metadata": {
        "papermill": {
          "duration": 0.01817,
          "end_time": "2021-01-22T20:04:07.335804",
          "exception": false,
          "start_time": "2021-01-22T20:04:07.317634",
          "status": "completed"
        },
        "tags": [],
        "id": "bL2jWu9xMFfN"
      },
      "source": [
        "# Exercises"
      ]
    },
    {
      "cell_type": "markdown",
      "metadata": {
        "papermill": {
          "duration": 0.018337,
          "end_time": "2021-01-22T20:04:07.372668",
          "exception": false,
          "start_time": "2021-01-22T20:04:07.354331",
          "status": "completed"
        },
        "tags": [],
        "id": "mTJ5pwbeMFfO"
      },
      "source": [
        "## 1.\n",
        "\n",
        "What is the median of the `points` column in the `reviews` DataFrame?"
      ]
    },
    {
      "cell_type": "code",
      "metadata": {
        "execution": {
          "iopub.execute_input": "2021-01-22T20:04:07.415910Z",
          "iopub.status.busy": "2021-01-22T20:04:07.415121Z",
          "iopub.status.idle": "2021-01-22T20:04:07.424669Z",
          "shell.execute_reply": "2021-01-22T20:04:07.424132Z"
        },
        "papermill": {
          "duration": 0.033578,
          "end_time": "2021-01-22T20:04:07.424800",
          "exception": false,
          "start_time": "2021-01-22T20:04:07.391222",
          "status": "completed"
        },
        "tags": [],
        "id": "0tvJEhvnMFfO",
        "outputId": "fa93b05a-5ecf-4240-e9af-8f907d19ad80"
      },
      "source": [
        "median_points = reviews.points.median()\n",
        "\n",
        "# Check your answer\n",
        "q1.check()\n",
        "median_points"
      ],
      "execution_count": null,
      "outputs": [
        {
          "output_type": "display_data",
          "data": {
            "application/javascript": [
              "parent.postMessage({\"jupyterEvent\": \"custom.exercise_interaction\", \"data\": {\"outcomeType\": 1, \"valueTowardsCompletion\": 0.14285714285714285, \"interactionType\": 1, \"questionType\": 1, \"questionId\": \"1_MedianPoints\", \"learnToolsVersion\": \"0.3.4\", \"failureMessage\": \"\", \"exceptionClass\": \"\", \"trace\": \"\"}}, \"*\")"
            ],
            "text/plain": [
              "<IPython.core.display.Javascript object>"
            ]
          },
          "metadata": {
            "tags": []
          }
        },
        {
          "output_type": "display_data",
          "data": {
            "text/markdown": "<span style=\"color:#33cc33\">Correct</span>",
            "text/plain": [
              "Correct"
            ]
          },
          "metadata": {
            "tags": []
          }
        },
        {
          "output_type": "execute_result",
          "data": {
            "text/plain": [
              "88.0"
            ]
          },
          "metadata": {
            "tags": []
          },
          "execution_count": 2
        }
      ]
    },
    {
      "cell_type": "code",
      "metadata": {
        "execution": {
          "iopub.execute_input": "2021-01-22T20:04:07.465997Z",
          "iopub.status.busy": "2021-01-22T20:04:07.465278Z",
          "iopub.status.idle": "2021-01-22T20:04:07.468496Z",
          "shell.execute_reply": "2021-01-22T20:04:07.467837Z"
        },
        "papermill": {
          "duration": 0.025384,
          "end_time": "2021-01-22T20:04:07.468617",
          "exception": false,
          "start_time": "2021-01-22T20:04:07.443233",
          "status": "completed"
        },
        "tags": [],
        "id": "qKwA2KciMFfP"
      },
      "source": [
        "#q1.hint()\n",
        "#q1.solution()"
      ],
      "execution_count": null,
      "outputs": []
    },
    {
      "cell_type": "markdown",
      "metadata": {
        "papermill": {
          "duration": 0.017863,
          "end_time": "2021-01-22T20:04:07.504916",
          "exception": false,
          "start_time": "2021-01-22T20:04:07.487053",
          "status": "completed"
        },
        "tags": [],
        "id": "M1Bxmy9DMFfP"
      },
      "source": [
        "## 2. \n",
        "What countries are represented in the dataset? (Your answer should not include any duplicates.)"
      ]
    },
    {
      "cell_type": "code",
      "metadata": {
        "execution": {
          "iopub.execute_input": "2021-01-22T20:04:07.561676Z",
          "iopub.status.busy": "2021-01-22T20:04:07.560790Z",
          "iopub.status.idle": "2021-01-22T20:04:07.570559Z",
          "shell.execute_reply": "2021-01-22T20:04:07.569824Z"
        },
        "papermill": {
          "duration": 0.047237,
          "end_time": "2021-01-22T20:04:07.570682",
          "exception": false,
          "start_time": "2021-01-22T20:04:07.523445",
          "status": "completed"
        },
        "tags": [],
        "id": "bo3XxjNkMFfQ",
        "outputId": "b69e2d62-2184-444d-e95c-b8ee00b71acf"
      },
      "source": [
        "countries = reviews.country.unique()\n",
        "\n",
        "# Check your answer\n",
        "q2.check()\n",
        "countries"
      ],
      "execution_count": null,
      "outputs": [
        {
          "output_type": "display_data",
          "data": {
            "application/javascript": [
              "parent.postMessage({\"jupyterEvent\": \"custom.exercise_interaction\", \"data\": {\"outcomeType\": 1, \"valueTowardsCompletion\": 0.14285714285714285, \"interactionType\": 1, \"questionType\": 2, \"questionId\": \"2_UniqueCountries\", \"learnToolsVersion\": \"0.3.4\", \"failureMessage\": \"\", \"exceptionClass\": \"\", \"trace\": \"\"}}, \"*\")"
            ],
            "text/plain": [
              "<IPython.core.display.Javascript object>"
            ]
          },
          "metadata": {
            "tags": []
          }
        },
        {
          "output_type": "display_data",
          "data": {
            "text/markdown": "<span style=\"color:#33cc33\">Correct</span>",
            "text/plain": [
              "Correct"
            ]
          },
          "metadata": {
            "tags": []
          }
        },
        {
          "output_type": "execute_result",
          "data": {
            "text/plain": [
              "array(['Italy', 'Portugal', 'US', 'Spain', 'France', 'Germany',\n",
              "       'Argentina', 'Chile', 'Australia', 'Austria', 'South Africa',\n",
              "       'New Zealand', 'Israel', 'Hungary', 'Greece', 'Romania', 'Mexico',\n",
              "       'Canada', nan, 'Turkey', 'Czech Republic', 'Slovenia',\n",
              "       'Luxembourg', 'Croatia', 'Georgia', 'Uruguay', 'England',\n",
              "       'Lebanon', 'Serbia', 'Brazil', 'Moldova', 'Morocco', 'Peru',\n",
              "       'India', 'Bulgaria', 'Cyprus', 'Armenia', 'Switzerland',\n",
              "       'Bosnia and Herzegovina', 'Ukraine', 'Slovakia', 'Macedonia',\n",
              "       'China', 'Egypt'], dtype=object)"
            ]
          },
          "metadata": {
            "tags": []
          },
          "execution_count": 4
        }
      ]
    },
    {
      "cell_type": "code",
      "metadata": {
        "execution": {
          "iopub.execute_input": "2021-01-22T20:04:07.616587Z",
          "iopub.status.busy": "2021-01-22T20:04:07.615859Z",
          "iopub.status.idle": "2021-01-22T20:04:07.618757Z",
          "shell.execute_reply": "2021-01-22T20:04:07.618064Z"
        },
        "papermill": {
          "duration": 0.027307,
          "end_time": "2021-01-22T20:04:07.618887",
          "exception": false,
          "start_time": "2021-01-22T20:04:07.591580",
          "status": "completed"
        },
        "tags": [],
        "id": "Z0cshFyvMFfR"
      },
      "source": [
        "#q2.hint()\n",
        "#q2.solution()"
      ],
      "execution_count": null,
      "outputs": []
    },
    {
      "cell_type": "markdown",
      "metadata": {
        "papermill": {
          "duration": 0.019502,
          "end_time": "2021-01-22T20:04:07.658542",
          "exception": false,
          "start_time": "2021-01-22T20:04:07.639040",
          "status": "completed"
        },
        "tags": [],
        "id": "DK8vW6ldMFfR"
      },
      "source": [
        "## 3.\n",
        "How often does each country appear in the dataset? Create a Series `reviews_per_country` mapping countries to the count of reviews of wines from that country."
      ]
    },
    {
      "cell_type": "code",
      "metadata": {
        "execution": {
          "iopub.execute_input": "2021-01-22T20:04:07.736079Z",
          "iopub.status.busy": "2021-01-22T20:04:07.721981Z",
          "iopub.status.idle": "2021-01-22T20:04:07.815858Z",
          "shell.execute_reply": "2021-01-22T20:04:07.815266Z"
        },
        "papermill": {
          "duration": 0.137008,
          "end_time": "2021-01-22T20:04:07.815974",
          "exception": false,
          "start_time": "2021-01-22T20:04:07.678966",
          "status": "completed"
        },
        "tags": [],
        "id": "7eBeKspMMFfR",
        "outputId": "8a065d26-962b-4534-8964-b45f8a509541"
      },
      "source": [
        "reviews_per_country = reviews.country.value_counts()\n",
        "\n",
        "# Check your answer\n",
        "q3.check()\n",
        "reviews_per_country"
      ],
      "execution_count": null,
      "outputs": [
        {
          "output_type": "display_data",
          "data": {
            "application/javascript": [
              "parent.postMessage({\"jupyterEvent\": \"custom.exercise_interaction\", \"data\": {\"outcomeType\": 1, \"valueTowardsCompletion\": 0.14285714285714285, \"interactionType\": 1, \"questionType\": 1, \"questionId\": \"3_ReviewsPerCountry\", \"learnToolsVersion\": \"0.3.4\", \"failureMessage\": \"\", \"exceptionClass\": \"\", \"trace\": \"\"}}, \"*\")"
            ],
            "text/plain": [
              "<IPython.core.display.Javascript object>"
            ]
          },
          "metadata": {
            "tags": []
          }
        },
        {
          "output_type": "display_data",
          "data": {
            "text/markdown": "<span style=\"color:#33cc33\">Correct</span>",
            "text/plain": [
              "Correct"
            ]
          },
          "metadata": {
            "tags": []
          }
        },
        {
          "output_type": "execute_result",
          "data": {
            "text/plain": [
              "US        54504\n",
              "France    22093\n",
              "          ...  \n",
              "China         1\n",
              "Egypt         1\n",
              "Name: country, Length: 43, dtype: int64"
            ]
          },
          "metadata": {
            "tags": []
          },
          "execution_count": 6
        }
      ]
    },
    {
      "cell_type": "code",
      "metadata": {
        "execution": {
          "iopub.execute_input": "2021-01-22T20:04:07.865788Z",
          "iopub.status.busy": "2021-01-22T20:04:07.864942Z",
          "iopub.status.idle": "2021-01-22T20:04:07.868524Z",
          "shell.execute_reply": "2021-01-22T20:04:07.867940Z"
        },
        "papermill": {
          "duration": 0.030376,
          "end_time": "2021-01-22T20:04:07.868638",
          "exception": false,
          "start_time": "2021-01-22T20:04:07.838262",
          "status": "completed"
        },
        "tags": [],
        "id": "4DTo2hcoMFfS"
      },
      "source": [
        "#q3.hint()\n",
        "#q3.solution()"
      ],
      "execution_count": null,
      "outputs": []
    },
    {
      "cell_type": "markdown",
      "metadata": {
        "papermill": {
          "duration": 0.021511,
          "end_time": "2021-01-22T20:04:07.912389",
          "exception": false,
          "start_time": "2021-01-22T20:04:07.890878",
          "status": "completed"
        },
        "tags": [],
        "id": "bQi2O1yVMFfS"
      },
      "source": [
        "## 4.\n",
        "Create variable `centered_price` containing a version of the `price` column with the mean price subtracted.\n",
        "\n",
        "(Note: this 'centering' transformation is a common preprocessing step before applying various machine learning algorithms.) "
      ]
    },
    {
      "cell_type": "code",
      "metadata": {
        "execution": {
          "iopub.execute_input": "2021-01-22T20:04:07.963200Z",
          "iopub.status.busy": "2021-01-22T20:04:07.962474Z",
          "iopub.status.idle": "2021-01-22T20:04:07.969302Z",
          "shell.execute_reply": "2021-01-22T20:04:07.968625Z"
        },
        "papermill": {
          "duration": 0.035114,
          "end_time": "2021-01-22T20:04:07.969431",
          "exception": false,
          "start_time": "2021-01-22T20:04:07.934317",
          "status": "completed"
        },
        "tags": [],
        "id": "3TdDZIXlMFfT",
        "outputId": "1f3a9d98-4463-4eb5-d6c3-280792d10fe2"
      },
      "source": [
        "centered_price = reviews.price - reviews.price.mean()\n",
        "\n",
        "# Check your answer\n",
        "q4.check()"
      ],
      "execution_count": null,
      "outputs": [
        {
          "output_type": "display_data",
          "data": {
            "application/javascript": [
              "parent.postMessage({\"jupyterEvent\": \"custom.exercise_interaction\", \"data\": {\"outcomeType\": 1, \"valueTowardsCompletion\": 0.14285714285714285, \"interactionType\": 1, \"questionType\": 1, \"questionId\": \"4_CenteredPrice\", \"learnToolsVersion\": \"0.3.4\", \"failureMessage\": \"\", \"exceptionClass\": \"\", \"trace\": \"\"}}, \"*\")"
            ],
            "text/plain": [
              "<IPython.core.display.Javascript object>"
            ]
          },
          "metadata": {
            "tags": []
          }
        },
        {
          "output_type": "display_data",
          "data": {
            "text/markdown": "<span style=\"color:#33cc33\">Correct</span>",
            "text/plain": [
              "Correct"
            ]
          },
          "metadata": {
            "tags": []
          }
        }
      ]
    },
    {
      "cell_type": "code",
      "metadata": {
        "execution": {
          "iopub.execute_input": "2021-01-22T20:04:08.020138Z",
          "iopub.status.busy": "2021-01-22T20:04:08.019437Z",
          "iopub.status.idle": "2021-01-22T20:04:08.021664Z",
          "shell.execute_reply": "2021-01-22T20:04:08.022503Z"
        },
        "papermill": {
          "duration": 0.030175,
          "end_time": "2021-01-22T20:04:08.022673",
          "exception": false,
          "start_time": "2021-01-22T20:04:07.992498",
          "status": "completed"
        },
        "tags": [],
        "id": "VD00osFxMFfT"
      },
      "source": [
        "#q4.hint()\n",
        "#q4.solution()"
      ],
      "execution_count": null,
      "outputs": []
    },
    {
      "cell_type": "markdown",
      "metadata": {
        "papermill": {
          "duration": 0.022591,
          "end_time": "2021-01-22T20:04:08.068548",
          "exception": false,
          "start_time": "2021-01-22T20:04:08.045957",
          "status": "completed"
        },
        "tags": [],
        "id": "Q_v3IoHIMFfU"
      },
      "source": [
        "## 5.\n",
        "I'm an economical wine buyer. Which wine is the \"best bargain\"? Create a variable `bargain_wine` with the title of the wine with the highest points-to-price ratio in the dataset."
      ]
    },
    {
      "cell_type": "code",
      "metadata": {
        "execution": {
          "iopub.execute_input": "2021-01-22T20:04:08.118491Z",
          "iopub.status.busy": "2021-01-22T20:04:08.117785Z",
          "iopub.status.idle": "2021-01-22T20:04:08.134026Z",
          "shell.execute_reply": "2021-01-22T20:04:08.133420Z"
        },
        "papermill": {
          "duration": 0.042233,
          "end_time": "2021-01-22T20:04:08.134143",
          "exception": false,
          "start_time": "2021-01-22T20:04:08.091910",
          "status": "completed"
        },
        "tags": [],
        "id": "8IogwswhMFfU",
        "outputId": "8a0e47ba-582a-47c0-dedd-748eb2f7b1f2"
      },
      "source": [
        "points_price_ratio = reviews.points / reviews.price \n",
        "bargain_wine = reviews.loc[points_price_ratio.idxmax(), 'title']\n",
        "# Check your answer\n",
        "q5.check()"
      ],
      "execution_count": null,
      "outputs": [
        {
          "output_type": "display_data",
          "data": {
            "application/javascript": [
              "parent.postMessage({\"jupyterEvent\": \"custom.exercise_interaction\", \"data\": {\"outcomeType\": 1, \"valueTowardsCompletion\": 0.14285714285714285, \"interactionType\": 1, \"questionType\": 2, \"questionId\": \"5_BargainWine\", \"learnToolsVersion\": \"0.3.4\", \"failureMessage\": \"\", \"exceptionClass\": \"\", \"trace\": \"\"}}, \"*\")"
            ],
            "text/plain": [
              "<IPython.core.display.Javascript object>"
            ]
          },
          "metadata": {
            "tags": []
          }
        },
        {
          "output_type": "display_data",
          "data": {
            "text/markdown": "<span style=\"color:#33cc33\">Correct</span>",
            "text/plain": [
              "Correct"
            ]
          },
          "metadata": {
            "tags": []
          }
        }
      ]
    },
    {
      "cell_type": "code",
      "metadata": {
        "execution": {
          "iopub.execute_input": "2021-01-22T20:04:08.188720Z",
          "iopub.status.busy": "2021-01-22T20:04:08.187729Z",
          "iopub.status.idle": "2021-01-22T20:04:08.194062Z",
          "shell.execute_reply": "2021-01-22T20:04:08.193396Z"
        },
        "papermill": {
          "duration": 0.035726,
          "end_time": "2021-01-22T20:04:08.194179",
          "exception": false,
          "start_time": "2021-01-22T20:04:08.158453",
          "status": "completed"
        },
        "tags": [],
        "id": "uKrhX6LEMFfV",
        "outputId": "314202be-3bbf-437d-96af-35f86c66f2af"
      },
      "source": [
        "q5.hint()\n",
        "#q5.solution()"
      ],
      "execution_count": null,
      "outputs": [
        {
          "output_type": "display_data",
          "data": {
            "application/javascript": [
              "parent.postMessage({\"jupyterEvent\": \"custom.exercise_interaction\", \"data\": {\"interactionType\": 2, \"questionType\": 2, \"questionId\": \"5_BargainWine\", \"learnToolsVersion\": \"0.3.4\", \"valueTowardsCompletion\": 0.0, \"failureMessage\": \"\", \"exceptionClass\": \"\", \"trace\": \"\", \"outcomeType\": 4}}, \"*\")"
            ],
            "text/plain": [
              "<IPython.core.display.Javascript object>"
            ]
          },
          "metadata": {
            "tags": []
          }
        },
        {
          "output_type": "display_data",
          "data": {
            "text/markdown": "<span style=\"color:#3366cc\">Hint:</span> The `idxmax` method may be useful here.",
            "text/plain": [
              "Hint: The `idxmax` method may be useful here."
            ]
          },
          "metadata": {
            "tags": []
          }
        }
      ]
    },
    {
      "cell_type": "markdown",
      "metadata": {
        "papermill": {
          "duration": 0.026191,
          "end_time": "2021-01-22T20:04:08.247257",
          "exception": false,
          "start_time": "2021-01-22T20:04:08.221066",
          "status": "completed"
        },
        "tags": [],
        "id": "GNv-98O1MFfV"
      },
      "source": [
        "## 6.\n",
        "There are only so many words you can use when describing a bottle of wine. Is a wine more likely to be \"tropical\" or \"fruity\"? Create a Series `descriptor_counts` counting how many times each of these two words appears in the `description` column in the dataset."
      ]
    },
    {
      "cell_type": "code",
      "metadata": {
        "execution": {
          "iopub.execute_input": "2021-01-22T20:04:08.307262Z",
          "iopub.status.busy": "2021-01-22T20:04:08.305117Z",
          "iopub.status.idle": "2021-01-22T20:04:08.458166Z",
          "shell.execute_reply": "2021-01-22T20:04:08.457439Z"
        },
        "papermill": {
          "duration": 0.185625,
          "end_time": "2021-01-22T20:04:08.458296",
          "exception": false,
          "start_time": "2021-01-22T20:04:08.272671",
          "status": "completed"
        },
        "tags": [],
        "id": "53IWCTcKMFfW",
        "outputId": "3ab3c0ae-4b94-4b25-9122-35047ed40859"
      },
      "source": [
        "tropical_cnt = reviews.description.map(lambda d: 'tropical' in d).sum()\n",
        "fruity_cnt = reviews.description.map(lambda d: 'fruity' in d).sum()\n",
        "\n",
        "descriptor_counts = pd.Series([tropical_cnt, fruity_cnt], index = ['tropical', 'fruity'])\n",
        "\n",
        "# Check your answer\n",
        "q6.check()\n",
        "descriptor_counts"
      ],
      "execution_count": null,
      "outputs": [
        {
          "output_type": "display_data",
          "data": {
            "application/javascript": [
              "parent.postMessage({\"jupyterEvent\": \"custom.exercise_interaction\", \"data\": {\"outcomeType\": 1, \"valueTowardsCompletion\": 0.14285714285714285, \"interactionType\": 1, \"questionType\": 1, \"questionId\": \"6_DescriptorCounts\", \"learnToolsVersion\": \"0.3.4\", \"failureMessage\": \"\", \"exceptionClass\": \"\", \"trace\": \"\"}}, \"*\")"
            ],
            "text/plain": [
              "<IPython.core.display.Javascript object>"
            ]
          },
          "metadata": {
            "tags": []
          }
        },
        {
          "output_type": "display_data",
          "data": {
            "text/markdown": "<span style=\"color:#33cc33\">Correct</span>",
            "text/plain": [
              "Correct"
            ]
          },
          "metadata": {
            "tags": []
          }
        },
        {
          "output_type": "execute_result",
          "data": {
            "text/plain": [
              "tropical    3607\n",
              "fruity      9090\n",
              "dtype: int64"
            ]
          },
          "metadata": {
            "tags": []
          },
          "execution_count": 12
        }
      ]
    },
    {
      "cell_type": "code",
      "metadata": {
        "execution": {
          "iopub.execute_input": "2021-01-22T20:04:08.517521Z",
          "iopub.status.busy": "2021-01-22T20:04:08.516781Z",
          "iopub.status.idle": "2021-01-22T20:04:08.519661Z",
          "shell.execute_reply": "2021-01-22T20:04:08.518974Z"
        },
        "papermill": {
          "duration": 0.034043,
          "end_time": "2021-01-22T20:04:08.519779",
          "exception": false,
          "start_time": "2021-01-22T20:04:08.485736",
          "status": "completed"
        },
        "tags": [],
        "id": "rM6JTYn1MFfX"
      },
      "source": [
        "#q6.hint()\n",
        "#q6.solution()"
      ],
      "execution_count": null,
      "outputs": []
    },
    {
      "cell_type": "markdown",
      "metadata": {
        "papermill": {
          "duration": 0.027179,
          "end_time": "2021-01-22T20:04:08.574166",
          "exception": false,
          "start_time": "2021-01-22T20:04:08.546987",
          "status": "completed"
        },
        "tags": [],
        "id": "L4m4OeFWMFfX"
      },
      "source": [
        "## 7.\n",
        "We'd like to host these wine reviews on our website, but a rating system ranging from 80 to 100 points is too hard to understand - we'd like to translate them into simple star ratings. A score of 95 or higher counts as 3 stars, a score of at least 85 but less than 95 is 2 stars. Any other score is 1 star.\n",
        "\n",
        "Also, the Canadian Vintners Association bought a lot of ads on the site, so any wines from Canada should automatically get 3 stars, regardless of points.\n",
        "\n",
        "Create a series `star_ratings` with the number of stars corresponding to each review in the dataset."
      ]
    },
    {
      "cell_type": "code",
      "metadata": {
        "execution": {
          "iopub.execute_input": "2021-01-22T20:04:08.633519Z",
          "iopub.status.busy": "2021-01-22T20:04:08.632813Z",
          "iopub.status.idle": "2021-01-22T20:04:13.699148Z",
          "shell.execute_reply": "2021-01-22T20:04:13.698456Z"
        },
        "papermill": {
          "duration": 5.09776,
          "end_time": "2021-01-22T20:04:13.699274",
          "exception": false,
          "start_time": "2021-01-22T20:04:08.601514",
          "status": "completed"
        },
        "tags": [],
        "id": "kokIWwCkMFfY",
        "outputId": "4355d896-2ab4-496b-fd58-99490426bb44"
      },
      "source": [
        "def get_stars(rating):\n",
        "    if rating.points >= 95 or rating.country == 'Canada':\n",
        "        return 3\n",
        "    elif rating.points >= 85:\n",
        "        return 2\n",
        "    else:\n",
        "        return 1\n",
        "star_ratings = reviews.apply(get_stars, axis='columns')\n",
        "\n",
        "# Check your answer\n",
        "q7.check()\n",
        "star_ratings"
      ],
      "execution_count": null,
      "outputs": [
        {
          "output_type": "display_data",
          "data": {
            "application/javascript": [
              "parent.postMessage({\"jupyterEvent\": \"custom.exercise_interaction\", \"data\": {\"outcomeType\": 1, \"valueTowardsCompletion\": 0.14285714285714285, \"interactionType\": 1, \"questionType\": 1, \"questionId\": \"7_StarRatings\", \"learnToolsVersion\": \"0.3.4\", \"failureMessage\": \"\", \"exceptionClass\": \"\", \"trace\": \"\"}}, \"*\")"
            ],
            "text/plain": [
              "<IPython.core.display.Javascript object>"
            ]
          },
          "metadata": {
            "tags": []
          }
        },
        {
          "output_type": "display_data",
          "data": {
            "text/markdown": "<span style=\"color:#33cc33\">Correct</span>",
            "text/plain": [
              "Correct"
            ]
          },
          "metadata": {
            "tags": []
          }
        },
        {
          "output_type": "execute_result",
          "data": {
            "text/plain": [
              "0         2\n",
              "1         2\n",
              "         ..\n",
              "129969    2\n",
              "129970    2\n",
              "Length: 129971, dtype: int64"
            ]
          },
          "metadata": {
            "tags": []
          },
          "execution_count": 14
        }
      ]
    },
    {
      "cell_type": "code",
      "metadata": {
        "execution": {
          "iopub.execute_input": "2021-01-22T20:04:13.762370Z",
          "iopub.status.busy": "2021-01-22T20:04:13.761614Z",
          "iopub.status.idle": "2021-01-22T20:04:13.764493Z",
          "shell.execute_reply": "2021-01-22T20:04:13.765021Z"
        },
        "papermill": {
          "duration": 0.037184,
          "end_time": "2021-01-22T20:04:13.765176",
          "exception": false,
          "start_time": "2021-01-22T20:04:13.727992",
          "status": "completed"
        },
        "tags": [],
        "id": "Vtw52iLlMFfY"
      },
      "source": [
        "#q7.hint()\n",
        "#q7.solution()"
      ],
      "execution_count": null,
      "outputs": []
    },
    {
      "cell_type": "markdown",
      "metadata": {
        "papermill": {
          "duration": 0.028338,
          "end_time": "2021-01-22T20:04:13.823423",
          "exception": false,
          "start_time": "2021-01-22T20:04:13.795085",
          "status": "completed"
        },
        "tags": [],
        "id": "UD_AJ9KQMFfY"
      },
      "source": [
        "# Keep going\n",
        "Continue to **[grouping and sorting](https://www.kaggle.com/residentmario/grouping-and-sorting)**."
      ]
    },
    {
      "cell_type": "markdown",
      "metadata": {
        "papermill": {
          "duration": 0.029731,
          "end_time": "2021-01-22T20:04:13.881809",
          "exception": false,
          "start_time": "2021-01-22T20:04:13.852078",
          "status": "completed"
        },
        "tags": [],
        "id": "BfGyGxnCMFfZ"
      },
      "source": [
        "---\n",
        "\n",
        "\n",
        "\n",
        "\n",
        "*Have questions or comments? Visit the [Learn Discussion forum](https://www.kaggle.com/learn-forum/161299) to chat with other Learners.*"
      ]
    }
  ]
}