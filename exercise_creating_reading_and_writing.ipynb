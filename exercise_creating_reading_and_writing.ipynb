{
  "nbformat": 4,
  "nbformat_minor": 0,
  "metadata": {
    "kernelspec": {
      "display_name": "Python 3",
      "language": "python",
      "name": "python3"
    },
    "language_info": {
      "codemirror_mode": {
        "name": "ipython",
        "version": 3
      },
      "file_extension": ".py",
      "mimetype": "text/x-python",
      "name": "python",
      "nbconvert_exporter": "python",
      "pygments_lexer": "ipython3",
      "version": "3.7.6"
    },
    "papermill": {
      "duration": 8.313685,
      "end_time": "2021-01-22T13:17:24.473951",
      "environment_variables": {},
      "exception": null,
      "input_path": "__notebook__.ipynb",
      "output_path": "__notebook__.ipynb",
      "parameters": {},
      "start_time": "2021-01-22T13:17:16.160266",
      "version": "2.1.0"
    },
    "colab": {
      "name": "exercise-creating-reading-and-writing.ipynb",
      "provenance": []
    }
  },
  "cells": [
    {
      "cell_type": "markdown",
      "metadata": {
        "papermill": {
          "duration": 0.013193,
          "end_time": "2021-01-22T13:17:20.940987",
          "exception": false,
          "start_time": "2021-01-22T13:17:20.927794",
          "status": "completed"
        },
        "tags": [],
        "id": "l54bQLTLLhjt"
      },
      "source": [
        "**This notebook is an exercise in the [Pandas](https://www.kaggle.com/learn/pandas) course.  You can reference the tutorial at [this link](https://www.kaggle.com/residentmario/creating-reading-and-writing).**\n",
        "\n",
        "---\n"
      ]
    },
    {
      "cell_type": "markdown",
      "metadata": {
        "papermill": {
          "duration": 0.00997,
          "end_time": "2021-01-22T13:17:20.962089",
          "exception": false,
          "start_time": "2021-01-22T13:17:20.952119",
          "status": "completed"
        },
        "tags": [],
        "id": "_zzvQjUOLhj3"
      },
      "source": [
        "# Introduction\n",
        "\n",
        "The first step in most data analytics projects is reading the data file. In this exercise, you'll create Series and DataFrame objects, both by hand and by reading data files.\n",
        "\n",
        "Run the code cell below to load libraries you will need (including code to check your answers)."
      ]
    },
    {
      "cell_type": "code",
      "metadata": {
        "execution": {
          "iopub.execute_input": "2021-01-22T13:17:20.988600Z",
          "iopub.status.busy": "2021-01-22T13:17:20.987848Z",
          "iopub.status.idle": "2021-01-22T13:17:22.570870Z",
          "shell.execute_reply": "2021-01-22T13:17:22.571760Z"
        },
        "papermill": {
          "duration": 1.600045,
          "end_time": "2021-01-22T13:17:22.572014",
          "exception": false,
          "start_time": "2021-01-22T13:17:20.971969",
          "status": "completed"
        },
        "tags": [],
        "id": "JV0w7WFILhj4",
        "outputId": "b086d469-7a2f-4210-f303-ae5f8fbb2df9"
      },
      "source": [
        "import pandas as pd\n",
        "pd.set_option('max_rows', 5)\n",
        "from learntools.core import binder; binder.bind(globals())\n",
        "from learntools.pandas.creating_reading_and_writing import *\n",
        "print(\"Setup complete.\")"
      ],
      "execution_count": null,
      "outputs": [
        {
          "output_type": "stream",
          "text": [
            "Setup complete.\n"
          ],
          "name": "stdout"
        }
      ]
    },
    {
      "cell_type": "markdown",
      "metadata": {
        "papermill": {
          "duration": 0.010463,
          "end_time": "2021-01-22T13:17:22.595869",
          "exception": false,
          "start_time": "2021-01-22T13:17:22.585406",
          "status": "completed"
        },
        "tags": [],
        "id": "BQSV6pu7Lhj6"
      },
      "source": [
        "# Exercises"
      ]
    },
    {
      "cell_type": "markdown",
      "metadata": {
        "papermill": {
          "duration": 0.010221,
          "end_time": "2021-01-22T13:17:22.616449",
          "exception": false,
          "start_time": "2021-01-22T13:17:22.606228",
          "status": "completed"
        },
        "tags": [],
        "id": "qpokx-iiLhj6"
      },
      "source": [
        "## 1.\n",
        "\n",
        "In the cell below, create a DataFrame `fruits` that looks like this:\n",
        "\n",
        "![](https://i.imgur.com/Ax3pp2A.png)"
      ]
    },
    {
      "cell_type": "code",
      "metadata": {
        "execution": {
          "iopub.execute_input": "2021-01-22T13:17:22.642060Z",
          "iopub.status.busy": "2021-01-22T13:17:22.641112Z",
          "iopub.status.idle": "2021-01-22T13:17:22.659445Z",
          "shell.execute_reply": "2021-01-22T13:17:22.658806Z"
        },
        "papermill": {
          "duration": 0.031858,
          "end_time": "2021-01-22T13:17:22.659577",
          "exception": false,
          "start_time": "2021-01-22T13:17:22.627719",
          "status": "completed"
        },
        "tags": [],
        "id": "qKT2Q1CRLhj7",
        "outputId": "5ec50ec1-0b1a-4290-df38-04ed3e693a12"
      },
      "source": [
        "# Your code goes here. Create a dataframe matching the above diagram and assign it to the variable fruits.\n",
        "fruits = pd.DataFrame({'Apples': [30], 'Bananas': [21]})\n",
        "\n",
        "# Check your answer\n",
        "q1.check()\n",
        "fruits"
      ],
      "execution_count": null,
      "outputs": [
        {
          "output_type": "display_data",
          "data": {
            "application/javascript": [
              "parent.postMessage({\"jupyterEvent\": \"custom.exercise_interaction\", \"data\": {\"outcomeType\": 1, \"valueTowardsCompletion\": 0.16666666666666666, \"interactionType\": 1, \"questionType\": 1, \"questionId\": \"1_FruitDfCreation\", \"learnToolsVersion\": \"0.3.4\", \"failureMessage\": \"\", \"exceptionClass\": \"\", \"trace\": \"\"}}, \"*\")"
            ],
            "text/plain": [
              "<IPython.core.display.Javascript object>"
            ]
          },
          "metadata": {
            "tags": []
          }
        },
        {
          "output_type": "display_data",
          "data": {
            "text/markdown": "<span style=\"color:#33cc33\">Correct</span>",
            "text/plain": [
              "Correct"
            ]
          },
          "metadata": {
            "tags": []
          }
        },
        {
          "output_type": "execute_result",
          "data": {
            "text/html": [
              "<div>\n",
              "<style scoped>\n",
              "    .dataframe tbody tr th:only-of-type {\n",
              "        vertical-align: middle;\n",
              "    }\n",
              "\n",
              "    .dataframe tbody tr th {\n",
              "        vertical-align: top;\n",
              "    }\n",
              "\n",
              "    .dataframe thead th {\n",
              "        text-align: right;\n",
              "    }\n",
              "</style>\n",
              "<table border=\"1\" class=\"dataframe\">\n",
              "  <thead>\n",
              "    <tr style=\"text-align: right;\">\n",
              "      <th></th>\n",
              "      <th>Apples</th>\n",
              "      <th>Bananas</th>\n",
              "    </tr>\n",
              "  </thead>\n",
              "  <tbody>\n",
              "    <tr>\n",
              "      <th>0</th>\n",
              "      <td>30</td>\n",
              "      <td>21</td>\n",
              "    </tr>\n",
              "  </tbody>\n",
              "</table>\n",
              "</div>"
            ],
            "text/plain": [
              "   Apples  Bananas\n",
              "0      30       21"
            ]
          },
          "metadata": {
            "tags": []
          },
          "execution_count": 2
        }
      ]
    },
    {
      "cell_type": "code",
      "metadata": {
        "execution": {
          "iopub.execute_input": "2021-01-22T13:17:22.687460Z",
          "iopub.status.busy": "2021-01-22T13:17:22.686422Z",
          "iopub.status.idle": "2021-01-22T13:17:22.690059Z",
          "shell.execute_reply": "2021-01-22T13:17:22.690483Z"
        },
        "papermill": {
          "duration": 0.019119,
          "end_time": "2021-01-22T13:17:22.690640",
          "exception": false,
          "start_time": "2021-01-22T13:17:22.671521",
          "status": "completed"
        },
        "tags": [],
        "id": "EtDDk1TaLhj8"
      },
      "source": [
        "#q1.hint()\n",
        "#q1.solution()"
      ],
      "execution_count": null,
      "outputs": []
    },
    {
      "cell_type": "markdown",
      "metadata": {
        "papermill": {
          "duration": 0.011367,
          "end_time": "2021-01-22T13:17:22.713796",
          "exception": false,
          "start_time": "2021-01-22T13:17:22.702429",
          "status": "completed"
        },
        "tags": [],
        "id": "oMHY--2ILhj8"
      },
      "source": [
        "## 2.\n",
        "\n",
        "Create a dataframe `fruit_sales` that matches the diagram below:\n",
        "\n",
        "![](https://i.imgur.com/CHPn7ZF.png)"
      ]
    },
    {
      "cell_type": "code",
      "metadata": {
        "execution": {
          "iopub.execute_input": "2021-01-22T13:17:22.741113Z",
          "iopub.status.busy": "2021-01-22T13:17:22.740133Z",
          "iopub.status.idle": "2021-01-22T13:17:22.754265Z",
          "shell.execute_reply": "2021-01-22T13:17:22.754655Z"
        },
        "papermill": {
          "duration": 0.029168,
          "end_time": "2021-01-22T13:17:22.754791",
          "exception": false,
          "start_time": "2021-01-22T13:17:22.725623",
          "status": "completed"
        },
        "tags": [],
        "id": "rmCPMe65Lhj9",
        "outputId": "d0ad6397-4f79-44ee-f72b-b939fb8edefc"
      },
      "source": [
        "# Your code goes here. Create a dataframe matching the above diagram and assign it to the variable fruit_sales.\n",
        "fruit_sales = pd.DataFrame({'Apples': [35, 41], 'Bananas': [21, 34]}, index=['2017 Sales', '2018 Sales'])\n",
        "\n",
        "# Check your answer\n",
        "q2.check()\n",
        "fruit_sales"
      ],
      "execution_count": null,
      "outputs": [
        {
          "output_type": "display_data",
          "data": {
            "application/javascript": [
              "parent.postMessage({\"jupyterEvent\": \"custom.exercise_interaction\", \"data\": {\"outcomeType\": 1, \"valueTowardsCompletion\": 0.16666666666666666, \"interactionType\": 1, \"questionType\": 1, \"questionId\": \"2_FruitSalesDfCreation\", \"learnToolsVersion\": \"0.3.4\", \"failureMessage\": \"\", \"exceptionClass\": \"\", \"trace\": \"\"}}, \"*\")"
            ],
            "text/plain": [
              "<IPython.core.display.Javascript object>"
            ]
          },
          "metadata": {
            "tags": []
          }
        },
        {
          "output_type": "display_data",
          "data": {
            "text/markdown": "<span style=\"color:#33cc33\">Correct</span>",
            "text/plain": [
              "Correct"
            ]
          },
          "metadata": {
            "tags": []
          }
        },
        {
          "output_type": "execute_result",
          "data": {
            "text/html": [
              "<div>\n",
              "<style scoped>\n",
              "    .dataframe tbody tr th:only-of-type {\n",
              "        vertical-align: middle;\n",
              "    }\n",
              "\n",
              "    .dataframe tbody tr th {\n",
              "        vertical-align: top;\n",
              "    }\n",
              "\n",
              "    .dataframe thead th {\n",
              "        text-align: right;\n",
              "    }\n",
              "</style>\n",
              "<table border=\"1\" class=\"dataframe\">\n",
              "  <thead>\n",
              "    <tr style=\"text-align: right;\">\n",
              "      <th></th>\n",
              "      <th>Apples</th>\n",
              "      <th>Bananas</th>\n",
              "    </tr>\n",
              "  </thead>\n",
              "  <tbody>\n",
              "    <tr>\n",
              "      <th>2017 Sales</th>\n",
              "      <td>35</td>\n",
              "      <td>21</td>\n",
              "    </tr>\n",
              "    <tr>\n",
              "      <th>2018 Sales</th>\n",
              "      <td>41</td>\n",
              "      <td>34</td>\n",
              "    </tr>\n",
              "  </tbody>\n",
              "</table>\n",
              "</div>"
            ],
            "text/plain": [
              "            Apples  Bananas\n",
              "2017 Sales      35       21\n",
              "2018 Sales      41       34"
            ]
          },
          "metadata": {
            "tags": []
          },
          "execution_count": 4
        }
      ]
    },
    {
      "cell_type": "code",
      "metadata": {
        "execution": {
          "iopub.execute_input": "2021-01-22T13:17:22.785546Z",
          "iopub.status.busy": "2021-01-22T13:17:22.784713Z",
          "iopub.status.idle": "2021-01-22T13:17:22.789313Z",
          "shell.execute_reply": "2021-01-22T13:17:22.788725Z"
        },
        "papermill": {
          "duration": 0.021644,
          "end_time": "2021-01-22T13:17:22.789419",
          "exception": false,
          "start_time": "2021-01-22T13:17:22.767775",
          "status": "completed"
        },
        "tags": [],
        "id": "HpVoctmpLhkB"
      },
      "source": [
        "#q2.hint()\n",
        "#q2.solution()"
      ],
      "execution_count": null,
      "outputs": []
    },
    {
      "cell_type": "markdown",
      "metadata": {
        "papermill": {
          "duration": 0.013237,
          "end_time": "2021-01-22T13:17:22.815666",
          "exception": false,
          "start_time": "2021-01-22T13:17:22.802429",
          "status": "completed"
        },
        "tags": [],
        "id": "7Oy44gu5LhkB"
      },
      "source": [
        "## 3.\n",
        "\n",
        "Create a variable `ingredients` with a Series that looks like:\n",
        "\n",
        "```\n",
        "Flour     4 cups\n",
        "Milk       1 cup\n",
        "Eggs     2 large\n",
        "Spam       1 can\n",
        "Name: Dinner, dtype: object\n",
        "```"
      ]
    },
    {
      "cell_type": "code",
      "metadata": {
        "execution": {
          "iopub.execute_input": "2021-01-22T13:17:22.848506Z",
          "iopub.status.busy": "2021-01-22T13:17:22.847790Z",
          "iopub.status.idle": "2021-01-22T13:17:22.855620Z",
          "shell.execute_reply": "2021-01-22T13:17:22.856179Z"
        },
        "papermill": {
          "duration": 0.02758,
          "end_time": "2021-01-22T13:17:22.856335",
          "exception": false,
          "start_time": "2021-01-22T13:17:22.828755",
          "status": "completed"
        },
        "tags": [],
        "id": "kt3yjnh_LhkC",
        "outputId": "81c40b12-8fe6-4720-e13c-36f483229dd0"
      },
      "source": [
        "ingredients = pd.Series(['4 cups', '1 cup', '2 large', '1 can'], index=['Flour', 'Milk', 'Eggs', 'Spam'], name='Dinner')\n",
        "\n",
        "# Check your answer\n",
        "q3.check()\n",
        "ingredients"
      ],
      "execution_count": null,
      "outputs": [
        {
          "output_type": "display_data",
          "data": {
            "application/javascript": [
              "parent.postMessage({\"jupyterEvent\": \"custom.exercise_interaction\", \"data\": {\"outcomeType\": 1, \"valueTowardsCompletion\": 0.16666666666666666, \"interactionType\": 1, \"questionType\": 2, \"questionId\": \"3_RecipeSeriesCreation\", \"learnToolsVersion\": \"0.3.4\", \"failureMessage\": \"\", \"exceptionClass\": \"\", \"trace\": \"\"}}, \"*\")"
            ],
            "text/plain": [
              "<IPython.core.display.Javascript object>"
            ]
          },
          "metadata": {
            "tags": []
          }
        },
        {
          "output_type": "display_data",
          "data": {
            "text/markdown": "<span style=\"color:#33cc33\">Correct</span>",
            "text/plain": [
              "Correct"
            ]
          },
          "metadata": {
            "tags": []
          }
        },
        {
          "output_type": "execute_result",
          "data": {
            "text/plain": [
              "Flour     4 cups\n",
              "Milk       1 cup\n",
              "Eggs     2 large\n",
              "Spam       1 can\n",
              "Name: Dinner, dtype: object"
            ]
          },
          "metadata": {
            "tags": []
          },
          "execution_count": 6
        }
      ]
    },
    {
      "cell_type": "code",
      "metadata": {
        "execution": {
          "iopub.execute_input": "2021-01-22T13:17:22.887981Z",
          "iopub.status.busy": "2021-01-22T13:17:22.887264Z",
          "iopub.status.idle": "2021-01-22T13:17:22.891850Z",
          "shell.execute_reply": "2021-01-22T13:17:22.891216Z"
        },
        "papermill": {
          "duration": 0.021453,
          "end_time": "2021-01-22T13:17:22.891991",
          "exception": false,
          "start_time": "2021-01-22T13:17:22.870538",
          "status": "completed"
        },
        "tags": [],
        "id": "UCUyb935LhkD"
      },
      "source": [
        "#q3.hint()\n",
        "#q3.solution()"
      ],
      "execution_count": null,
      "outputs": []
    },
    {
      "cell_type": "markdown",
      "metadata": {
        "papermill": {
          "duration": 0.01422,
          "end_time": "2021-01-22T13:17:22.921543",
          "exception": false,
          "start_time": "2021-01-22T13:17:22.907323",
          "status": "completed"
        },
        "tags": [],
        "id": "sz9AXMG4LhkD"
      },
      "source": [
        "## 4.\n",
        "\n",
        "Read the following csv dataset of wine reviews into a DataFrame called `reviews`:\n",
        "\n",
        "![](https://i.imgur.com/74RCZtU.png)\n",
        "\n",
        "The filepath to the csv file is `../input/wine-reviews/winemag-data_first150k.csv`. The first few lines look like:\n",
        "\n",
        "```\n",
        ",country,description,designation,points,price,province,region_1,region_2,variety,winery\n",
        "0,US,\"This tremendous 100% varietal wine[...]\",Martha's Vineyard,96,235.0,California,Napa Valley,Napa,Cabernet Sauvignon,Heitz\n",
        "1,Spain,\"Ripe aromas of fig, blackberry and[...]\",Carodorum Selección Especial Reserva,96,110.0,Northern Spain,Toro,,Tinta de Toro,Bodega Carmen Rodríguez\n",
        "```"
      ]
    },
    {
      "cell_type": "code",
      "metadata": {
        "execution": {
          "iopub.execute_input": "2021-01-22T13:17:22.956706Z",
          "iopub.status.busy": "2021-01-22T13:17:22.956063Z",
          "iopub.status.idle": "2021-01-22T13:17:23.747302Z",
          "shell.execute_reply": "2021-01-22T13:17:23.746679Z"
        },
        "papermill": {
          "duration": 0.811045,
          "end_time": "2021-01-22T13:17:23.747413",
          "exception": false,
          "start_time": "2021-01-22T13:17:22.936368",
          "status": "completed"
        },
        "tags": [],
        "id": "QF-sH8YgLhkE",
        "outputId": "5c5ebf40-4126-4559-dd52-981ffbcb7b78"
      },
      "source": [
        "reviews = pd.read_csv('../input/wine-reviews/winemag-data_first150k.csv', index_col=0)\n",
        "\n",
        "# Check your answer\n",
        "q4.check()\n",
        "reviews"
      ],
      "execution_count": null,
      "outputs": [
        {
          "output_type": "display_data",
          "data": {
            "application/javascript": [
              "parent.postMessage({\"jupyterEvent\": \"custom.exercise_interaction\", \"data\": {\"outcomeType\": 1, \"valueTowardsCompletion\": 0.16666666666666666, \"interactionType\": 1, \"questionType\": 1, \"questionId\": \"4_ReadWineCsv\", \"learnToolsVersion\": \"0.3.4\", \"failureMessage\": \"\", \"exceptionClass\": \"\", \"trace\": \"\"}}, \"*\")"
            ],
            "text/plain": [
              "<IPython.core.display.Javascript object>"
            ]
          },
          "metadata": {
            "tags": []
          }
        },
        {
          "output_type": "display_data",
          "data": {
            "text/markdown": "<span style=\"color:#33cc33\">Correct</span>",
            "text/plain": [
              "Correct"
            ]
          },
          "metadata": {
            "tags": []
          }
        },
        {
          "output_type": "execute_result",
          "data": {
            "text/html": [
              "<div>\n",
              "<style scoped>\n",
              "    .dataframe tbody tr th:only-of-type {\n",
              "        vertical-align: middle;\n",
              "    }\n",
              "\n",
              "    .dataframe tbody tr th {\n",
              "        vertical-align: top;\n",
              "    }\n",
              "\n",
              "    .dataframe thead th {\n",
              "        text-align: right;\n",
              "    }\n",
              "</style>\n",
              "<table border=\"1\" class=\"dataframe\">\n",
              "  <thead>\n",
              "    <tr style=\"text-align: right;\">\n",
              "      <th></th>\n",
              "      <th>country</th>\n",
              "      <th>description</th>\n",
              "      <th>designation</th>\n",
              "      <th>points</th>\n",
              "      <th>price</th>\n",
              "      <th>province</th>\n",
              "      <th>region_1</th>\n",
              "      <th>region_2</th>\n",
              "      <th>variety</th>\n",
              "      <th>winery</th>\n",
              "    </tr>\n",
              "  </thead>\n",
              "  <tbody>\n",
              "    <tr>\n",
              "      <th>0</th>\n",
              "      <td>US</td>\n",
              "      <td>This tremendous 100% varietal wine hails from ...</td>\n",
              "      <td>Martha's Vineyard</td>\n",
              "      <td>96</td>\n",
              "      <td>235.0</td>\n",
              "      <td>California</td>\n",
              "      <td>Napa Valley</td>\n",
              "      <td>Napa</td>\n",
              "      <td>Cabernet Sauvignon</td>\n",
              "      <td>Heitz</td>\n",
              "    </tr>\n",
              "    <tr>\n",
              "      <th>1</th>\n",
              "      <td>Spain</td>\n",
              "      <td>Ripe aromas of fig, blackberry and cassis are ...</td>\n",
              "      <td>Carodorum Selección Especial Reserva</td>\n",
              "      <td>96</td>\n",
              "      <td>110.0</td>\n",
              "      <td>Northern Spain</td>\n",
              "      <td>Toro</td>\n",
              "      <td>NaN</td>\n",
              "      <td>Tinta de Toro</td>\n",
              "      <td>Bodega Carmen Rodríguez</td>\n",
              "    </tr>\n",
              "    <tr>\n",
              "      <th>...</th>\n",
              "      <td>...</td>\n",
              "      <td>...</td>\n",
              "      <td>...</td>\n",
              "      <td>...</td>\n",
              "      <td>...</td>\n",
              "      <td>...</td>\n",
              "      <td>...</td>\n",
              "      <td>...</td>\n",
              "      <td>...</td>\n",
              "      <td>...</td>\n",
              "    </tr>\n",
              "    <tr>\n",
              "      <th>150928</th>\n",
              "      <td>France</td>\n",
              "      <td>A perfect salmon shade, with scents of peaches...</td>\n",
              "      <td>Grand Brut Rosé</td>\n",
              "      <td>90</td>\n",
              "      <td>52.0</td>\n",
              "      <td>Champagne</td>\n",
              "      <td>Champagne</td>\n",
              "      <td>NaN</td>\n",
              "      <td>Champagne Blend</td>\n",
              "      <td>Gosset</td>\n",
              "    </tr>\n",
              "    <tr>\n",
              "      <th>150929</th>\n",
              "      <td>Italy</td>\n",
              "      <td>More Pinot Grigios should taste like this. A r...</td>\n",
              "      <td>NaN</td>\n",
              "      <td>90</td>\n",
              "      <td>15.0</td>\n",
              "      <td>Northeastern Italy</td>\n",
              "      <td>Alto Adige</td>\n",
              "      <td>NaN</td>\n",
              "      <td>Pinot Grigio</td>\n",
              "      <td>Alois Lageder</td>\n",
              "    </tr>\n",
              "  </tbody>\n",
              "</table>\n",
              "<p>150930 rows × 10 columns</p>\n",
              "</div>"
            ],
            "text/plain": [
              "       country                                        description  \\\n",
              "0           US  This tremendous 100% varietal wine hails from ...   \n",
              "1        Spain  Ripe aromas of fig, blackberry and cassis are ...   \n",
              "...        ...                                                ...   \n",
              "150928  France  A perfect salmon shade, with scents of peaches...   \n",
              "150929   Italy  More Pinot Grigios should taste like this. A r...   \n",
              "\n",
              "                                 designation  points  price  \\\n",
              "0                          Martha's Vineyard      96  235.0   \n",
              "1       Carodorum Selección Especial Reserva      96  110.0   \n",
              "...                                      ...     ...    ...   \n",
              "150928                       Grand Brut Rosé      90   52.0   \n",
              "150929                                   NaN      90   15.0   \n",
              "\n",
              "                  province     region_1 region_2             variety  \\\n",
              "0               California  Napa Valley     Napa  Cabernet Sauvignon   \n",
              "1           Northern Spain         Toro      NaN       Tinta de Toro   \n",
              "...                    ...          ...      ...                 ...   \n",
              "150928           Champagne    Champagne      NaN     Champagne Blend   \n",
              "150929  Northeastern Italy   Alto Adige      NaN        Pinot Grigio   \n",
              "\n",
              "                         winery  \n",
              "0                         Heitz  \n",
              "1       Bodega Carmen Rodríguez  \n",
              "...                         ...  \n",
              "150928                   Gosset  \n",
              "150929            Alois Lageder  \n",
              "\n",
              "[150930 rows x 10 columns]"
            ]
          },
          "metadata": {
            "tags": []
          },
          "execution_count": 8
        }
      ]
    },
    {
      "cell_type": "code",
      "metadata": {
        "execution": {
          "iopub.execute_input": "2021-01-22T13:17:23.785606Z",
          "iopub.status.busy": "2021-01-22T13:17:23.784991Z",
          "iopub.status.idle": "2021-01-22T13:17:23.789004Z",
          "shell.execute_reply": "2021-01-22T13:17:23.788345Z"
        },
        "papermill": {
          "duration": 0.025995,
          "end_time": "2021-01-22T13:17:23.789127",
          "exception": false,
          "start_time": "2021-01-22T13:17:23.763132",
          "status": "completed"
        },
        "tags": [],
        "id": "h2BMrdJ9LhkF"
      },
      "source": [
        "#q4.hint()\n",
        "#q4.solution()"
      ],
      "execution_count": null,
      "outputs": []
    },
    {
      "cell_type": "markdown",
      "metadata": {
        "papermill": {
          "duration": 0.015592,
          "end_time": "2021-01-22T13:17:23.821540",
          "exception": false,
          "start_time": "2021-01-22T13:17:23.805948",
          "status": "completed"
        },
        "tags": [],
        "id": "Ycvm2k_NLhkF"
      },
      "source": [
        "## 5.\n",
        "\n",
        "Run the cell below to create and display a DataFrame called `animals`:"
      ]
    },
    {
      "cell_type": "code",
      "metadata": {
        "execution": {
          "iopub.execute_input": "2021-01-22T13:17:23.864412Z",
          "iopub.status.busy": "2021-01-22T13:17:23.863449Z",
          "iopub.status.idle": "2021-01-22T13:17:23.868027Z",
          "shell.execute_reply": "2021-01-22T13:17:23.867435Z"
        },
        "papermill": {
          "duration": 0.029217,
          "end_time": "2021-01-22T13:17:23.868142",
          "exception": false,
          "start_time": "2021-01-22T13:17:23.838925",
          "status": "completed"
        },
        "tags": [],
        "id": "f34ApzMOLhkF",
        "outputId": "d44fed21-ba3f-493d-b6b9-0600a992b1f5"
      },
      "source": [
        "animals = pd.DataFrame({'Cows': [12, 20], 'Goats': [22, 19]}, index=['Year 1', 'Year 2'])\n",
        "animals"
      ],
      "execution_count": null,
      "outputs": [
        {
          "output_type": "execute_result",
          "data": {
            "text/html": [
              "<div>\n",
              "<style scoped>\n",
              "    .dataframe tbody tr th:only-of-type {\n",
              "        vertical-align: middle;\n",
              "    }\n",
              "\n",
              "    .dataframe tbody tr th {\n",
              "        vertical-align: top;\n",
              "    }\n",
              "\n",
              "    .dataframe thead th {\n",
              "        text-align: right;\n",
              "    }\n",
              "</style>\n",
              "<table border=\"1\" class=\"dataframe\">\n",
              "  <thead>\n",
              "    <tr style=\"text-align: right;\">\n",
              "      <th></th>\n",
              "      <th>Cows</th>\n",
              "      <th>Goats</th>\n",
              "    </tr>\n",
              "  </thead>\n",
              "  <tbody>\n",
              "    <tr>\n",
              "      <th>Year 1</th>\n",
              "      <td>12</td>\n",
              "      <td>22</td>\n",
              "    </tr>\n",
              "    <tr>\n",
              "      <th>Year 2</th>\n",
              "      <td>20</td>\n",
              "      <td>19</td>\n",
              "    </tr>\n",
              "  </tbody>\n",
              "</table>\n",
              "</div>"
            ],
            "text/plain": [
              "        Cows  Goats\n",
              "Year 1    12     22\n",
              "Year 2    20     19"
            ]
          },
          "metadata": {
            "tags": []
          },
          "execution_count": 10
        }
      ]
    },
    {
      "cell_type": "markdown",
      "metadata": {
        "papermill": {
          "duration": 0.015695,
          "end_time": "2021-01-22T13:17:23.900016",
          "exception": false,
          "start_time": "2021-01-22T13:17:23.884321",
          "status": "completed"
        },
        "tags": [],
        "id": "NFcPpVZ0LhkG"
      },
      "source": [
        "In the cell below, write code to save this DataFrame to disk as a csv file with the name `cows_and_goats.csv`."
      ]
    },
    {
      "cell_type": "code",
      "metadata": {
        "execution": {
          "iopub.execute_input": "2021-01-22T13:17:23.937015Z",
          "iopub.status.busy": "2021-01-22T13:17:23.936379Z",
          "iopub.status.idle": "2021-01-22T13:17:24.236729Z",
          "shell.execute_reply": "2021-01-22T13:17:24.236125Z"
        },
        "papermill": {
          "duration": 0.320763,
          "end_time": "2021-01-22T13:17:24.236838",
          "exception": false,
          "start_time": "2021-01-22T13:17:23.916075",
          "status": "completed"
        },
        "tags": [],
        "id": "Khw_X1rPLhkG",
        "outputId": "f649b2e8-e2d1-420c-8d5d-3db76911eda4"
      },
      "source": [
        "# Your code goes here\n",
        "animals.to_csv('cows_and_goats.csv')\n",
        "# Check your answer\n",
        "q5.check()"
      ],
      "execution_count": null,
      "outputs": [
        {
          "output_type": "display_data",
          "data": {
            "application/javascript": [
              "parent.postMessage({\"jupyterEvent\": \"custom.exercise_interaction\", \"data\": {\"outcomeType\": 1, \"valueTowardsCompletion\": 0.16666666666666666, \"interactionType\": 1, \"questionType\": 2, \"questionId\": \"5_SaveAnimalsCsv\", \"learnToolsVersion\": \"0.3.4\", \"failureMessage\": \"\", \"exceptionClass\": \"\", \"trace\": \"\"}}, \"*\")"
            ],
            "text/plain": [
              "<IPython.core.display.Javascript object>"
            ]
          },
          "metadata": {
            "tags": []
          }
        },
        {
          "output_type": "display_data",
          "data": {
            "text/markdown": "<span style=\"color:#33cc33\">Correct</span>",
            "text/plain": [
              "Correct"
            ]
          },
          "metadata": {
            "tags": []
          }
        }
      ]
    },
    {
      "cell_type": "code",
      "metadata": {
        "execution": {
          "iopub.execute_input": "2021-01-22T13:17:24.276837Z",
          "iopub.status.busy": "2021-01-22T13:17:24.275843Z",
          "iopub.status.idle": "2021-01-22T13:17:24.279195Z",
          "shell.execute_reply": "2021-01-22T13:17:24.278454Z"
        },
        "papermill": {
          "duration": 0.025137,
          "end_time": "2021-01-22T13:17:24.279328",
          "exception": false,
          "start_time": "2021-01-22T13:17:24.254191",
          "status": "completed"
        },
        "tags": [],
        "id": "NRBF0UUTLhkH"
      },
      "source": [
        "#q5.hint()\n",
        "#q5.solution()"
      ],
      "execution_count": null,
      "outputs": []
    },
    {
      "cell_type": "markdown",
      "metadata": {
        "papermill": {
          "duration": 0.017138,
          "end_time": "2021-01-22T13:17:24.314049",
          "exception": false,
          "start_time": "2021-01-22T13:17:24.296911",
          "status": "completed"
        },
        "tags": [],
        "id": "ET4C9gJ_LhkH"
      },
      "source": [
        "# Keep going\n",
        "\n",
        "Move on to learn about **[indexing, selecting and assigning](https://www.kaggle.com/residentmario/indexing-selecting-assigning)**."
      ]
    },
    {
      "cell_type": "markdown",
      "metadata": {
        "papermill": {
          "duration": 0.016913,
          "end_time": "2021-01-22T13:17:24.348608",
          "exception": false,
          "start_time": "2021-01-22T13:17:24.331695",
          "status": "completed"
        },
        "tags": [],
        "id": "knpnVPd2LhkI"
      },
      "source": [
        "---\n",
        "\n",
        "\n",
        "\n",
        "\n",
        "*Have questions or comments? Visit the [Learn Discussion forum](https://www.kaggle.com/learn-forum/161299) to chat with other Learners.*"
      ]
    }
  ]
}